{
 "cells": [
  {
   "cell_type": "code",
   "execution_count": 18,
   "id": "f5cd1b67",
   "metadata": {},
   "outputs": [],
   "source": [
    "import pandas as pd\n",
    "# import OS module\n",
    "import os"
   ]
  },
  {
   "cell_type": "code",
   "execution_count": 19,
   "id": "66970f31",
   "metadata": {},
   "outputs": [],
   "source": [
    "def create_csv_stats(names):\n",
    "    # create an Empty DataFrame object\n",
    "    df = pd.DataFrame()\n",
    "    \n",
    "    equal_count_arr = []\n",
    "    greater_count_arr = []\n",
    "    mean_count_arr = []\n",
    "    original_succ_arr = []\n",
    "    for name in names:\n",
    "        df_temp = pd.read_csv('attack_results_100_transformed/' + name)\n",
    "        equal_count = df_temp['labels'][df_temp['labels'] >= 2.5].count()\n",
    "        equal_count_arr.append(equal_count)\n",
    "        \n",
    "        greater_count = df_temp['labels'][df_temp['labels'] > 2.5].count()\n",
    "        greater_count_arr.append(greater_count)\n",
    "        \n",
    "        mean_count = df_temp['labels'].mean()\n",
    "        mean_count_arr.append(mean_count)\n",
    "        \n",
    "        original_succ = df_temp['labels'][df_temp['labels'] > 0].count()\n",
    "        original_succ_arr.append(original_succ)\n",
    "        \n",
    "    df['name'] = names\n",
    "    df['successful >= 2.5'] = equal_count_arr\n",
    "    df['successful > 2.5'] = greater_count_arr\n",
    "    df['original success'] = original_succ_arr\n",
    "    df['mean'] = mean_count_arr\n",
    "    \n",
    "    df.to_csv('attack_results_100_transformed/attack_results_labeled_stats.csv') "
   ]
  },
  {
   "cell_type": "code",
   "execution_count": 20,
   "id": "90f2f7bc",
   "metadata": {},
   "outputs": [],
   "source": [
    " # This is my path\n",
    "path = \"attack_results_100_transformed\"\n",
    " \n",
    "# to store files in a list\n",
    "list = []\n",
    "\n",
    "temp_names = []\n",
    "# dirs=directories\n",
    "for (root, dirs, file) in os.walk(path):\n",
    "    for f in file:\n",
    "        if 'output' in f:\n",
    "            temp_names.append(f)\n",
    "\n",
    "temp_names.sort()\n",
    "\n",
    "create_csv_stats(temp_names)"
   ]
  },
  {
   "cell_type": "code",
   "execution_count": null,
   "id": "00469b68",
   "metadata": {},
   "outputs": [],
   "source": []
  }
 ],
 "metadata": {
  "kernelspec": {
   "display_name": "Python 3 (ipykernel)",
   "language": "python",
   "name": "python3"
  },
  "language_info": {
   "codemirror_mode": {
    "name": "ipython",
    "version": 3
   },
   "file_extension": ".py",
   "mimetype": "text/x-python",
   "name": "python",
   "nbconvert_exporter": "python",
   "pygments_lexer": "ipython3",
   "version": "3.9.12"
  }
 },
 "nbformat": 4,
 "nbformat_minor": 5
}
